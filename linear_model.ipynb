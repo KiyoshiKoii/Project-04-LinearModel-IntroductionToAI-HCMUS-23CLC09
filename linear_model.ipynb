{
 "cells": [
  {
   "cell_type": "code",
   "execution_count": null,
   "metadata": {},
   "outputs": [],
   "source": [
    "import pandas as pd\n",
    "import numpy as np\n",
    "import matplotlib\n",
    "from sklearn.linear_model import LinearRegression\n",
    "from sklearn.metrics import mean_absolute_error\n",
    "import joblib\n",
    "import pickle"
   ]
  },
  {
   "cell_type": "code",
   "execution_count": null,
   "metadata": {},
   "outputs": [],
   "source": [
    "data_path = 'data/train.csv'\n",
    "\n",
    "columns = ['Time', 'OZONE', 'NO2', 'temp', 'humidity', 'no2op1', 'no2op2', 'o3op1', 'o3op2']\n",
    "\n",
    "raw = pd.read_csv(data_path, header=True, names=columns)"
   ]
  },
  {
   "cell_type": "code",
   "execution_count": null,
   "metadata": {},
   "outputs": [
    {
     "name": "stdout",
     "output_type": "stream",
     "text": [
      "                  Time  OZONE     NO2  temp  humidity  no2op1  no2op2  o3op1  \\\n",
      "0  2019-03-27 13:01:00  77.59   6.881  36.2      38.9   199.0   200.0  240.0   \n",
      "1  2019-03-27 13:03:00  78.71  11.057  36.3      37.7   196.0   200.0  237.0   \n",
      "2  2019-03-27 13:04:00  78.85   8.596  36.7      38.0   195.0   199.0  235.0   \n",
      "3  2019-03-27 13:07:00  79.27   7.248  37.0      37.5   193.0   198.0  233.0   \n",
      "4  2019-03-27 13:08:00  80.01   8.638  36.8      36.8   191.0   198.0  231.0   \n",
      "\n",
      "   o3op2  \n",
      "0  197.0  \n",
      "1  196.0  \n",
      "2  196.0  \n",
      "3  195.0  \n",
      "4  195.0  \n"
     ]
    }
   ],
   "source": [
    "print(raw.head())"
   ]
  },
  {
   "cell_type": "code",
   "execution_count": 10,
   "metadata": {},
   "outputs": [
    {
     "name": "stdout",
     "output_type": "stream",
     "text": [
      "   no2op1  no2op2  o3op1  o3op2\n",
      "0   199.0   200.0  240.0  197.0\n",
      "1   196.0   200.0  237.0  196.0\n",
      "2   195.0   199.0  235.0  196.0\n",
      "3   193.0   198.0  233.0  195.0\n",
      "4   191.0   198.0  231.0  195.0\n"
     ]
    }
   ],
   "source": [
    "X_train = raw[['no2op1', 'no2op2', 'o3op1', 'o3op2']]\n",
    "print(X_train.head())   "
   ]
  },
  {
   "cell_type": "code",
   "execution_count": 11,
   "metadata": {},
   "outputs": [
    {
     "name": "stdout",
     "output_type": "stream",
     "text": [
      "   OZONE\n",
      "0  77.59\n",
      "1  78.71\n",
      "2  78.85\n",
      "3  79.27\n",
      "4  80.01\n"
     ]
    }
   ],
   "source": [
    "Y_train_ozone = raw[['OZONE']]\n",
    "print(Y_train_ozone.head())\n"
   ]
  },
  {
   "cell_type": "code",
   "execution_count": null,
   "metadata": {},
   "outputs": [
    {
     "name": "stdout",
     "output_type": "stream",
     "text": [
      "      NO2\n",
      "0   6.881\n",
      "1  11.057\n",
      "2   8.596\n",
      "3   7.248\n",
      "4   8.638\n"
     ]
    }
   ],
   "source": [
    "Y_train_no2 = raw[['NO2']]\n",
    "print(Y_train_no2.head())"
   ]
  },
  {
   "cell_type": "code",
   "execution_count": 33,
   "metadata": {},
   "outputs": [
    {
     "name": "stdout",
     "output_type": "stream",
     "text": [
      "O3 ≈ 10.9386 - 1.7559 * no2op1 + 1.1150 * no2op2 + 1.5643 * o3op1 - 0.9241 * o3op2\n"
     ]
    }
   ],
   "source": [
    "#Khởi tạo linear model\n",
    "lr_ozone = LinearRegression()\n",
    "\n",
    "lr_ozone.fit(X_train, Y_train_ozone)\n",
    "\n",
    "formulate_o3 = f\"O3 ≈ {lr_ozone.intercept_[0]:.4f}\"\n",
    "for i, feature in enumerate(X_train.columns):\n",
    "    coeff = lr_ozone.coef_[0][i]\n",
    "    if coeff >= 0:\n",
    "        formulate_o3 += f\" + {coeff:.4f} * {feature}\"\n",
    "    else:\n",
    "        formulate_o3 += f\" - {abs(coeff):.4f} * {feature}\"\n",
    "print(formulate_o3)\n"
   ]
  },
  {
   "cell_type": "code",
   "execution_count": 34,
   "metadata": {},
   "outputs": [
    {
     "name": "stdout",
     "output_type": "stream",
     "text": [
      "NO2 ≈ 43.4556 + 0.8547 * no2op1 - 2.4247 * no2op2 - 0.0119 * o3op1 + 1.4628 * o3op2\n"
     ]
    }
   ],
   "source": [
    "lr_no2 = LinearRegression()\n",
    "\n",
    "lr_no2.fit(X_train, Y_train_no2)\n",
    "\n",
    "\n",
    "formulate_no2 = f\"NO2 ≈ {lr_no2.intercept_[0]:.4f}\"\n",
    "for i, feature in enumerate(X_train.columns):\n",
    "    coeff = lr_no2.coef_[0][i]\n",
    "    if coeff >= 0:\n",
    "        formulate_no2 += f\" + {coeff:.4f} * {feature}\"\n",
    "    else:\n",
    "        formulate_no2 += f\" - {abs(coeff):.4f} * {feature}\"\n",
    "print(formulate_no2)\n",
    "    "
   ]
  },
  {
   "cell_type": "code",
   "execution_count": 24,
   "metadata": {},
   "outputs": [
    {
     "name": "stdout",
     "output_type": "stream",
     "text": [
      "MAE train ozone: 5.6259377355149365\n"
     ]
    }
   ],
   "source": [
    "y_pred_ozone = lr_ozone.predict(X_train)\n",
    "mae_ozone_train = mean_absolute_error(Y_train_ozone, y_pred_ozone)\n",
    "print(f'MAE train ozone: {mae_ozone_train}')"
   ]
  },
  {
   "cell_type": "code",
   "execution_count": 35,
   "metadata": {},
   "outputs": [
    {
     "name": "stdout",
     "output_type": "stream",
     "text": [
      "MAE train no2: 6.5401000938427885\n"
     ]
    }
   ],
   "source": [
    "y_pred_no2 = lr_no2.predict(X_train)\n",
    "mae_no2_train = mean_absolute_error(Y_train_no2, y_pred_no2)\n",
    "print(f'MAE train no2: {mae_no2_train}')"
   ]
  },
  {
   "cell_type": "code",
   "execution_count": 37,
   "metadata": {},
   "outputs": [
    {
     "name": "stdout",
     "output_type": "stream",
     "text": [
      "\n",
      "Đã lưu các mô hình Linear Regression vào file: models/linear_model.pkl\n"
     ]
    }
   ],
   "source": [
    "linear_models = {\n",
    "    'ozone_model': lr_ozone,\n",
    "    'no2_model': lr_no2\n",
    "}\n",
    "\n",
    "# Lưu dictionary vào file pkl\n",
    "model_save_path = 'models/linear_model.pkl'\n",
    "try:\n",
    "    joblib.dump(linear_models, model_save_path)\n",
    "    # Hoặc dùng pickle:\n",
    "    # import pickle\n",
    "    # with open(model_save_path, 'wb') as f:\n",
    "    #     pickle.dump(linear_models, f)\n",
    "    print(f\"\\nĐã lưu các mô hình Linear Regression vào file: {model_save_path}\")\n",
    "except Exception as e:\n",
    "    print(f\"Lỗi khi lưu mô hình: {e}\")\n"
   ]
  },
  {
   "cell_type": "code",
   "execution_count": 39,
   "metadata": {},
   "outputs": [
    {
     "name": "stdout",
     "output_type": "stream",
     "text": [
      "LinearRegression()\n"
     ]
    }
   ],
   "source": [
    "print(lr_no2)"
   ]
  },
  {
   "cell_type": "code",
   "execution_count": null,
   "metadata": {},
   "outputs": [],
   "source": []
  }
 ],
 "metadata": {
  "kernelspec": {
   "display_name": "Python 3",
   "language": "python",
   "name": "python3"
  },
  "language_info": {
   "codemirror_mode": {
    "name": "ipython",
    "version": 3
   },
   "file_extension": ".py",
   "mimetype": "text/x-python",
   "name": "python",
   "nbconvert_exporter": "python",
   "pygments_lexer": "ipython3",
   "version": "3.12.4"
  }
 },
 "nbformat": 4,
 "nbformat_minor": 2
}
